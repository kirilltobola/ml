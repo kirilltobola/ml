{
 "cells": [
  {
   "cell_type": "markdown",
   "metadata": {
    "id": "5bwVle82N2q5"
   },
   "source": [
    "## K_means"
   ]
  },
  {
   "cell_type": "markdown",
   "metadata": {
    "id": "BOKjfTuIN4DT"
   },
   "source": [
    "Реализуйте класс MyKMeans.\n",
    "\n",
    "Класс должен соответствовать шаблону, который приведен ниже.\n",
    "\n",
    "В конструктор класса передаются:\n",
    "- n_clusters — число кластеров, на которое будут разбиты данные;\n",
    "- n_iters — максимальное число итераций, которое может быть сделано в данном алгоритме.\n",
    "\n",
    "В методе `fit`:\n",
    "\n",
    "- self.centers — центры кластеров, которые пересчитываются на каждой итерации. Изначально выбираются случайным образом с фиксированным seed.\n",
    "\n",
    "Далее в цикле по числу итераций вам необходимо реализовать:\n",
    "-  вычисление ближайшего центра кластера для каждого объекта;\n",
    "- пересчет центра каждого кластера (среднее каждой из координат всех объектов, отнесенных к этому кластеру),\n",
    "посчитанные новые центры кластеров положите в переменную `new_centers`.\n",
    "\n",
    "В методе `predict`:\n",
    "\n",
    "вычисляются ближайшие центры кластеров для объектов `X`.\n",
    "\n",
    "\n"
   ]
  },
  {
   "cell_type": "code",
   "execution_count": 1,
   "metadata": {
    "id": "CjdGMH6wNuaM"
   },
   "outputs": [],
   "source": [
    "import numpy as np\n",
    "from sklearn.metrics import pairwise_distances_argmin\n",
    "\n",
    "class MyKMeans():\n",
    "    def __init__(self, n_clusters=3, n_iters = 100):\n",
    "        self.n_clusters = n_clusters\n",
    "        self.n_iters = n_iters\n",
    "        self.iters = 0\n",
    "    \n",
    "    def fit(self, X):\n",
    "        np.random.seed(0)\n",
    "        self.centers = np.random.uniform(\n",
    "            low=X.min(axis = 0),\n",
    "            high=X.max(axis = 0),\n",
    "            size=(self.n_clusters, X.shape[1])\n",
    "        )\n",
    "\n",
    "        for it in range(self.n_iters):\n",
    "            self.iters += 1\n",
    "            clusters = pairwise_distances_argmin(X, self.centers)\n",
    "            \n",
    "            new_centers = np.array(\n",
    "                [np.mean(X[clusters == i], axis=0) for i in range(len(self.centers))]\n",
    "            )\n",
    "            if np.all(self.centers == new_centers):\n",
    "                break\n",
    "\n",
    "            self.centers = new_centers\n",
    "\n",
    "\n",
    "    def predict(self, X):\n",
    "        labels = pairwise_distances_argmin(X, self.centers)\n",
    "        return labels"
   ]
  },
  {
   "cell_type": "markdown",
   "metadata": {
    "id": "-CHFE6_jS2z9"
   },
   "source": [
    "Сгенерируем данные для кластеризации"
   ]
  },
  {
   "cell_type": "code",
   "execution_count": 2,
   "metadata": {
    "id": "fZB9RQ1vS1-n"
   },
   "outputs": [],
   "source": [
    "from sklearn import datasets\n",
    "n_samples = 1000\n",
    "\n",
    "noisy_blobs = datasets.make_blobs(\n",
    "    n_samples=n_samples,\n",
    "    cluster_std=[1.0, 3.0, 0.5],\n",
    "    random_state=0\n",
    ")"
   ]
  },
  {
   "cell_type": "code",
   "execution_count": 3,
   "metadata": {
    "id": "wQN-2l2eS8Qq"
   },
   "outputs": [],
   "source": [
    "X, y = noisy_blobs"
   ]
  },
  {
   "cell_type": "markdown",
   "metadata": {
    "id": "AUi15fgNTBmu"
   },
   "source": [
    "1. Кластеризуйте объекты noisy_blobs с помощью `MyKMeans`, используйте гиперпараметры `n_clusters=3`, `n_iters=100`. Укажите ответ для объекта с индексом 1."
   ]
  },
  {
   "cell_type": "code",
   "execution_count": 4,
   "metadata": {
    "id": "VJlQezHTS83L"
   },
   "outputs": [
    {
     "data": {
      "text/plain": [
       "'pred[1] = 0'"
      ]
     },
     "execution_count": 4,
     "metadata": {},
     "output_type": "execute_result"
    }
   ],
   "source": [
    "clf_100 = MyKMeans(n_clusters=3, n_iters=100)\n",
    "clf_100.fit(X)\n",
    "\n",
    "pred_100 = clf_100.predict(X)\n",
    "f'pred[1] = {pred_100[1]}'"
   ]
  },
  {
   "cell_type": "markdown",
   "metadata": {
    "id": "joULp7G4TM6X"
   },
   "source": [
    "2. Кластеризуйте объекты noisy_blobs, используйте гиперпараметры `n_clusters=3`, `n_iters=5`. Укажите ответ для объекта с индексом 1."
   ]
  },
  {
   "cell_type": "code",
   "execution_count": 5,
   "metadata": {
    "id": "7jRbT4iWTPo_"
   },
   "outputs": [
    {
     "data": {
      "text/plain": [
       "'pred[1] = 0'"
      ]
     },
     "execution_count": 5,
     "metadata": {},
     "output_type": "execute_result"
    }
   ],
   "source": [
    "clf_5 = MyKMeans(n_clusters=3, n_iters=5)\n",
    "clf_5.fit(X)\n",
    "\n",
    "pred_5 = clf_5.predict(X)\n",
    "f'pred[1] = {pred_5[1]}'"
   ]
  },
  {
   "cell_type": "markdown",
   "metadata": {
    "id": "p7AXLyE7TStG"
   },
   "source": [
    "3. Вычислите, у какого числа объектов изменилась метка предсказываемого кластера при изменении гиперпараметра n_iters с 5 до 100."
   ]
  },
  {
   "cell_type": "code",
   "execution_count": 6,
   "metadata": {
    "id": "nhAkY7U3Tbv4"
   },
   "outputs": [
    {
     "data": {
      "text/plain": [
       "17"
      ]
     },
     "execution_count": 6,
     "metadata": {},
     "output_type": "execute_result"
    }
   ],
   "source": [
    "difference = 0\n",
    "for i in range(len(pred_5)):\n",
    "    if pred_100[i] != pred_5[i]:\n",
    "        difference += 1\n",
    "difference"
   ]
  },
  {
   "cell_type": "markdown",
   "metadata": {
    "id": "X2m3cpRsTb8f"
   },
   "source": [
    "4. Определите, за сколько итераций сошелся алгоритм на объектах noisy_blobs?"
   ]
  },
  {
   "cell_type": "code",
   "execution_count": 7,
   "metadata": {
    "id": "2pfPsKRxTc4r"
   },
   "outputs": [
    {
     "name": "stdout",
     "output_type": "stream",
     "text": [
      "11\n"
     ]
    }
   ],
   "source": [
    "print(clf_100.iters)"
   ]
  },
  {
   "cell_type": "markdown",
   "metadata": {
    "id": "rl2LmchQTh6M"
   },
   "source": [
    "## DBSCAN"
   ]
  },
  {
   "cell_type": "markdown",
   "metadata": {
    "id": "N-XaywRJToyT"
   },
   "source": [
    "5. Кластеризуйте объекты noisy_blobs с помощью DBSCAN. Используйте реализацию DBSCAN из sklearn. Зафиксируйте гиперпараметр eps=0.5. Укажите ответ для объекта с индексом 1."
   ]
  },
  {
   "cell_type": "code",
   "execution_count": 8,
   "metadata": {
    "id": "mSvhyVXZTjR5"
   },
   "outputs": [
    {
     "data": {
      "text/plain": [
       "0"
      ]
     },
     "execution_count": 8,
     "metadata": {},
     "output_type": "execute_result"
    }
   ],
   "source": [
    "from sklearn.cluster import DBSCAN\n",
    "\n",
    "dbscan = DBSCAN(eps=0.5)\n",
    "clusters = dbscan.fit_predict(X)\n",
    "\n",
    "clusters[1]"
   ]
  },
  {
   "cell_type": "markdown",
   "metadata": {
    "id": "N8tEMGZ5T4xY"
   },
   "source": [
    "6. Укажите полученное число кластеров."
   ]
  },
  {
   "cell_type": "code",
   "execution_count": 9,
   "metadata": {
    "id": "gWI0bFZWT6qR"
   },
   "outputs": [
    {
     "data": {
      "text/plain": [
       "11"
      ]
     },
     "execution_count": 9,
     "metadata": {},
     "output_type": "execute_result"
    }
   ],
   "source": [
    "import numpy as np\n",
    "\n",
    "count_clusters = len(\n",
    "    np.unique(clusters, axis=0)[1:]\n",
    ")\n",
    "count_clusters"
   ]
  },
  {
   "cell_type": "markdown",
   "metadata": {
    "id": "XgF0L6EBT9no"
   },
   "source": [
    "7. Сколько объектов было отнечено к выбросам (имеют метку -1)?"
   ]
  },
  {
   "cell_type": "code",
   "execution_count": 10,
   "metadata": {
    "id": "qTRp17L8T-Lh"
   },
   "outputs": [
    {
     "data": {
      "text/plain": [
       "152"
      ]
     },
     "execution_count": 10,
     "metadata": {},
     "output_type": "execute_result"
    }
   ],
   "source": [
    "count_anomalies = np.count_nonzero(clusters == -1)\n",
    "count_anomalies"
   ]
  }
 ],
 "metadata": {
  "colab": {
   "collapsed_sections": [],
   "name": "clustering_practice.ipynb",
   "provenance": []
  },
  "kernelspec": {
   "display_name": "Python 3 (ipykernel)",
   "language": "python",
   "name": "python3"
  },
  "language_info": {
   "codemirror_mode": {
    "name": "ipython",
    "version": 3
   },
   "file_extension": ".py",
   "mimetype": "text/x-python",
   "name": "python",
   "nbconvert_exporter": "python",
   "pygments_lexer": "ipython3",
   "version": "3.9.12"
  }
 },
 "nbformat": 4,
 "nbformat_minor": 1
}
