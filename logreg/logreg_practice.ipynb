{
 "cells": [
  {
   "cell_type": "markdown",
   "metadata": {
    "id": "5i298Ph2YylJ"
   },
   "source": [
    "### Логистическая регрессия"
   ]
  },
  {
   "cell_type": "markdown",
   "metadata": {
    "id": "MkzITiUtWpi8"
   },
   "source": [
    "1. Загрузите данные `load_wine` из `sklearn.datasets`. Из данных исключите объекты класса 2.\n",
    " Отмасштабируйте признаки, используя класс `StandardScaler` с гиперпараметрами по умолчанию. Обучите логистическую регрессию и оцените важность признаков. Укажите название признака, который оказался наименее значимым."
   ]
  },
  {
   "cell_type": "markdown",
   "metadata": {
    "id": "X792wQqfZl0h"
   },
   "source": [
    "Обратите внимание, целевое значение лежит по ключу `'target'`, матрица объекты-признаки лежит по ключу `'data'`\n",
    "\n"
   ]
  },
  {
   "cell_type": "code",
   "execution_count": 15,
   "metadata": {
    "colab": {
     "base_uri": "https://localhost:8080/",
     "height": 401
    },
    "id": "blUvtuMDWr9o",
    "outputId": "9656c4f8-213b-4f54-c452-e55d498ddb6b"
   },
   "outputs": [
    {
     "data": {
      "text/plain": [
       "['alcohol',\n",
       " 'malic_acid',\n",
       " 'ash',\n",
       " 'alcalinity_of_ash',\n",
       " 'magnesium',\n",
       " 'total_phenols',\n",
       " 'flavanoids',\n",
       " 'nonflavanoid_phenols',\n",
       " 'proanthocyanins',\n",
       " 'color_intensity',\n",
       " 'hue',\n",
       " 'od280/od315_of_diluted_wines',\n",
       " 'proline']"
      ]
     },
     "execution_count": 15,
     "metadata": {},
     "output_type": "execute_result"
    }
   ],
   "source": [
    "import numpy as np\n",
    "from sklearn.datasets import load_wine\n",
    "\n",
    "dataset = load_wine()\n",
    "\n",
    "data = dataset['data']\n",
    "target = dataset['target']\n",
    "feature_names = dataset['feature_names']\n",
    "\n",
    "count_class2 = (target == 2).sum()\n",
    "X = data[:-count_class2]\n",
    "Y = target[:-count_class2]\n",
    "\n",
    "feature_names"
   ]
  },
  {
   "cell_type": "code",
   "execution_count": 16,
   "metadata": {},
   "outputs": [],
   "source": [
    "from sklearn.preprocessing import StandardScaler\n",
    "from sklearn.linear_model import LogisticRegression"
   ]
  },
  {
   "cell_type": "code",
   "execution_count": 17,
   "metadata": {
    "id": "Dw8V7KDrZTyS"
   },
   "outputs": [
    {
     "data": {
      "text/plain": [
       "array([[ 1.452455  , -0.29441432,  0.30247764, ..., -0.11242761,\n",
       "         2.04002469,  0.782868  ],\n",
       "       [ 0.28906609, -0.21455828, -0.67719651, ..., -0.05291788,\n",
       "         0.94143735,  0.74015178],\n",
       "       [ 0.24388594,  0.4471061 ,  1.11324246, ..., -0.17193734,\n",
       "         0.45552372,  1.12459784],\n",
       "       ...,\n",
       "       [-1.30353427,  0.18472195,  1.484843  , ..., -0.52899571,\n",
       "        -1.0867239 , -0.92293343],\n",
       "       [-0.64842207, -0.38567837, -0.13668663, ..., -1.00507355,\n",
       "        -0.36841679, -1.27605426],\n",
       "       [-1.02115832,  2.66025935,  0.13356831, ..., -1.60017084,\n",
       "        -0.81207706, -0.59829008]])"
      ]
     },
     "execution_count": 17,
     "metadata": {},
     "output_type": "execute_result"
    }
   ],
   "source": [
    "sc = StandardScaler()\n",
    "sc.fit(X)\n",
    "\n",
    "X = sc.transform(X)\n",
    "X"
   ]
  },
  {
   "cell_type": "code",
   "execution_count": 21,
   "metadata": {},
   "outputs": [
    {
     "data": {
      "text/plain": [
       "'наиболее важный признак: total_phenols, coef=-0.033529878983285986'"
      ]
     },
     "execution_count": 21,
     "metadata": {},
     "output_type": "execute_result"
    }
   ],
   "source": [
    "clf = LogisticRegression()\n",
    "clf.fit(X, Y)\n",
    "\n",
    "w = clf.coef_\n",
    "most_important_feature_idx = np.argmin(np.abs(w))\n",
    "most_important_feature = feature_names[most_important_feature_idx]\n",
    "\n",
    "f'наиболее важный признак: {most_important_feature}, coef={w[0][most_important_feature_idx]}'"
   ]
  },
  {
   "cell_type": "markdown",
   "metadata": {
    "id": "o1b6Z6PZXujb"
   },
   "source": [
    "2. Загрузите данные `load_wine` из `sklearn.datasets`. Из обучающей части исключите объекты соответствующие классу 2. Не масштабируйте признаки. Обучите логистическую регрессию с гиперпараметрами по умолчанию.\n",
    "Выберите признак из предложенных, которому соответствует минимальный вес. \n"
   ]
  },
  {
   "cell_type": "code",
   "execution_count": 40,
   "metadata": {
    "id": "fgOQFU4lXyeR"
   },
   "outputs": [
    {
     "data": {
      "text/plain": [
       "'наиболее важный признак: magnesium, coef=0.013889175724309507'"
      ]
     },
     "execution_count": 40,
     "metadata": {},
     "output_type": "execute_result"
    }
   ],
   "source": [
    "clf = LogisticRegression(max_iter=641)\n",
    "X = data[:-count_class2]\n",
    "clf.fit(X, Y)\n",
    "w = clf.coef_\n",
    "\n",
    "argmin = np.argmin(np.abs(w))\n",
    "f'наиболее важный признак: {feature_names[argmin]}, coef={w[0][argmin]}'"
   ]
  },
  {
   "cell_type": "markdown",
   "metadata": {
    "id": "_8oXSHX-W6Ho"
   },
   "source": [
    "3. Решается задача бинарной классификации. Дана матрица объекты признаки 𝑋 и ответы для объектов  𝑦. Обучите логистическую регрессию и предскажите класс объекта x_new"
   ]
  },
  {
   "cell_type": "code",
   "execution_count": 6,
   "metadata": {
    "id": "AUXhaCISW-Ya"
   },
   "outputs": [],
   "source": [
    "X = np.array([[1, 1], [0.3, 0.7], [0, 4], [-2, -7], [0, -2], [-1, -1], [-2, 0]])\n",
    "y = np.array([1, 1, 1, 0, 0, 0, 0])\n",
    "x_new = np.array([[-5, 1]])"
   ]
  },
  {
   "cell_type": "code",
   "execution_count": 7,
   "metadata": {
    "id": "OzCBqBCvXO8y"
   },
   "outputs": [
    {
     "data": {
      "text/plain": [
       "'predicted class: 0'"
      ]
     },
     "execution_count": 7,
     "metadata": {},
     "output_type": "execute_result"
    }
   ],
   "source": [
    "clf = LogisticRegression()\n",
    "\n",
    "clf.fit(X, y)\n",
    "pred = clf.predict(x_new)\n",
    "f'predicted class: {pred[0]}'"
   ]
  },
  {
   "cell_type": "markdown",
   "metadata": {
    "id": "q5U0QkzBY5qm"
   },
   "source": [
    "### Классификация текстов"
   ]
  },
  {
   "cell_type": "markdown",
   "metadata": {
    "id": "xiOjvUwmYAKV"
   },
   "source": [
    "4. Загрузите файл SMSSpamCollection из UCI (https://archive.ics.uci.edu/ml/machine-learning-databases/00228/). Данные содержат текстовую информацию и бинарное целевое значение (‘spam’, ‘ham’), Пусть в обучающую часть попадут первые 4000 объектов из таблицы, в тестовую часть оставшиеся объекты. Обучите `TfidfVectorizer` с гиперпараметрами по умолчанию на текстах из обучающей части и получите векторное представление для объектов обучающей и тестовой части. Укажите полученное число признаков.\n"
   ]
  },
  {
   "cell_type": "markdown",
   "metadata": {
    "id": "r3x8REobaeFW"
   },
   "source": [
    "Чтобы загрузить данные, скачайте файл по ссылке. Если вы используете google colab, то пример загрузки данных приведен ниже."
   ]
  },
  {
   "cell_type": "code",
   "execution_count": null,
   "metadata": {
    "id": "bYRWryzHYP_y"
   },
   "outputs": [],
   "source": [
    "# import pandas as pd\n",
    "# from google.colab import files\n",
    "# uploder = files.upload()"
   ]
  },
  {
   "cell_type": "code",
   "execution_count": 8,
   "metadata": {
    "id": "zxbB9k-wa7Ht"
   },
   "outputs": [],
   "source": [
    "import pandas as pd\n",
    "from sklearn.feature_extraction.text import TfidfVectorizer\n",
    "\n",
    "data = pd.read_csv('SMSSpamCollection', sep='\\t', header=None)\n",
    "train, test = data[:4000], data[4000:]\n",
    "\n",
    "X_train, y_train = train[1], train[0]\n",
    "X_test, y_test = test[1], test[0]"
   ]
  },
  {
   "cell_type": "code",
   "execution_count": 9,
   "metadata": {},
   "outputs": [],
   "source": [
    "def bow(vectorizer, train, test):\n",
    "    train_bow = vectorizer.fit_transform(train)\n",
    "    test_bow = vectorizer.transform(test)\n",
    "    return train_bow, test_bow"
   ]
  },
  {
   "cell_type": "code",
   "execution_count": 10,
   "metadata": {},
   "outputs": [
    {
     "data": {
      "text/plain": [
       "'число признаков = 7331'"
      ]
     },
     "execution_count": 10,
     "metadata": {},
     "output_type": "execute_result"
    }
   ],
   "source": [
    "vectorizer = TfidfVectorizer()\n",
    "X_train_bow, X_test_bow = bow(\n",
    "    vectorizer, \n",
    "    X_train, \n",
    "    X_test,\n",
    ")\n",
    "X_train_bow.shape, X_test_bow.shape\n",
    "\n",
    "f'число признаков = {X_train_bow.shape[1]}'"
   ]
  },
  {
   "cell_type": "markdown",
   "metadata": {
    "id": "8dMNfNMpYRLl"
   },
   "source": [
    "5.  Загрузите файл SMSSpamCollection из UCI (https://archive.ics.uci.edu/ml/machine-learning-databases/00228/). Данные содержат текстовую информацию и бинарное целевое значение (‘spam’, ‘ham’), Пусть в обучающую часть попадут первые 4000 объектов из таблицы, в тестовую часть оставшиеся объекты. Обучите `TfidfVectorizer`, помимо слов входящих в тексты, учитывайте биграммы (используйте гиперпараметр `ngram_range`). Укажите полученное число признаков."
   ]
  },
  {
   "cell_type": "code",
   "execution_count": 42,
   "metadata": {
    "id": "AOH8KDb9YaPl"
   },
   "outputs": [
    {
     "name": "stdout",
     "output_type": "stream",
     "text": [
      "  (0, 2730)\t0.19361192729085422\n",
      "  (0, 13828)\t0.19361192729085422\n",
      "  (0, 33136)\t0.19361192729085422\n",
      "  (0, 7543)\t0.19361192729085422\n",
      "  (0, 6015)\t0.19361192729085422\n",
      "  (0, 18694)\t0.19361192729085422\n",
      "  (0, 38401)\t0.19361192729085422\n",
      "  (0, 14075)\t0.19361192729085422\n",
      "  (0, 6021)\t0.19361192729085422\n",
      "  (0, 16643)\t0.19361192729085422\n",
      "  (0, 24743)\t0.19361192729085422\n",
      "  (0, 4331)\t0.19361192729085422\n",
      "  (0, 8511)\t0.19361192729085422\n",
      "  (0, 26406)\t0.19361192729085422\n",
      "  (0, 18104)\t0.19361192729085422\n",
      "  (0, 35479)\t0.19361192729085422\n",
      "  (0, 13537)\t0.19361192729085422\n",
      "  (0, 36661)\t0.112028018734126\n",
      "  (0, 2729)\t0.19361192729085422\n",
      "  (0, 13823)\t0.09455436040145929\n",
      "  (0, 33104)\t0.09483226514591052\n",
      "  (0, 7536)\t0.16240644345756752\n",
      "  (0, 6014)\t0.18448490836118772\n",
      "  (0, 18693)\t0.16888216644454437\n",
      "  (0, 38391)\t0.1342067510569277\n",
      "  :\t:\n",
      "  (3999, 39631)\t0.15146071524906626\n",
      "  (3999, 27338)\t0.15426392496529376\n",
      "  (3999, 39281)\t0.11615574401821561\n",
      "  (3999, 6633)\t0.1283976693133361\n",
      "  (3999, 34069)\t0.14898810904411822\n",
      "  (3999, 34946)\t0.14677628742379523\n",
      "  (3999, 36897)\t0.15146071524906626\n",
      "  (3999, 110)\t0.14477545138942433\n",
      "  (3999, 6714)\t0.14477545138942433\n",
      "  (3999, 29963)\t0.11875075808657687\n",
      "  (3999, 34941)\t0.13690955336022884\n",
      "  (3999, 27278)\t0.10260443247967792\n",
      "  (3999, 36802)\t0.07854153619364805\n",
      "  (3999, 25173)\t0.09761501785051131\n",
      "  (3999, 27773)\t0.1964589754798818\n",
      "  (3999, 24860)\t0.07674884665722374\n",
      "  (3999, 21456)\t0.10286201717265796\n",
      "  (3999, 6446)\t0.13995095383804337\n",
      "  (3999, 39437)\t0.0693885980893994\n",
      "  (3999, 12051)\t0.06719256653307483\n",
      "  (3999, 39022)\t0.04703905801407493\n",
      "  (3999, 23507)\t0.07190070174550257\n",
      "  (3999, 32018)\t0.0939225645963832\n",
      "  (3999, 33940)\t0.09174889584623115\n",
      "  (3999, 12423)\t0.08779880821348994\n"
     ]
    }
   ],
   "source": [
    "vectorizer = TfidfVectorizer(ngram_range=(1, 2))\n",
    "X_train_bow, X_test_bow = bow(\n",
    "    vectorizer, \n",
    "    X_train, \n",
    "    X_test,\n",
    ")\n",
    "X_train_bow.shape, X_test_bow.shape\n",
    "\n",
    "f'число признаков = {X_train_bow.shape[1]}'\n",
    "print(X_train_bow)"
   ]
  },
  {
   "cell_type": "markdown",
   "metadata": {
    "id": "fKSMjXh9YhNQ"
   },
   "source": [
    "6. Загрузите файл SMSSpamCollection из UCI (https://archive.ics.uci.edu/ml/machine-learning-databases/00228/). Данные содержат текстовую информацию и бинарное целевое значение (‘spam’, ‘ham’), Пусть в обучающую часть попадут первые 4000 объектов из таблицы, в тестовую часть оставшиеся объекты. Обучите `TfidfVectorizer`, не учитывайте слова, которые встретились меньше 2 раз в обучающей выборке (используйте гиперпараметр `min_df`). Укажите полученное число признаков."
   ]
  },
  {
   "cell_type": "code",
   "execution_count": 12,
   "metadata": {
    "id": "62o2EgLdYmoL"
   },
   "outputs": [
    {
     "data": {
      "text/plain": [
       "'число признаков = 3377'"
      ]
     },
     "execution_count": 12,
     "metadata": {},
     "output_type": "execute_result"
    }
   ],
   "source": [
    "vectorizer = TfidfVectorizer(min_df=2)\n",
    "X_train_bow, X_test_bow = bow(\n",
    "    vectorizer, \n",
    "    X_train, \n",
    "    X_test,\n",
    ")\n",
    "X_train_bow.shape, X_test_bow.shape\n",
    "\n",
    "f'число признаков = {X_train_bow.shape[1]}'"
   ]
  },
  {
   "cell_type": "markdown",
   "metadata": {
    "id": "44KaLa4ZYoBB"
   },
   "source": [
    "7. Загрузите файл SMSSpamCollection из UCI (https://archive.ics.uci.edu/ml/machine-learning-databases/00228/). Данные содержат текстовую информацию и бинарное целевое значение (‘spam’, ‘ham’), Пусть в обучающую часть попадут первые 4000 объектов из таблицы, в тестовую часть оставшиеся объекты. Обучите `TfidfVectorizer` с гиперпараметрами по умолчанию на текстах из обучающей части и получите векторное представление для объектов обучающей и тестовой части. На полученных векторных представлениях обучите логистическую регрессию и оцените долю правильных ответов на тестовой части. Укажите полученное значение доли правильных ответов."
   ]
  },
  {
   "cell_type": "code",
   "execution_count": 13,
   "metadata": {
    "id": "bjdTdX7cYqiN"
   },
   "outputs": [
    {
     "data": {
      "text/plain": [
       "'accuracy = 0.97%'"
      ]
     },
     "execution_count": 13,
     "metadata": {},
     "output_type": "execute_result"
    }
   ],
   "source": [
    "from sklearn.linear_model import LogisticRegression\n",
    "from sklearn.metrics import accuracy_score\n",
    "\n",
    "vectorizer = TfidfVectorizer()\n",
    "X_train_bow, X_test_bow = bow(\n",
    "    vectorizer, \n",
    "    X_train, \n",
    "    X_test,\n",
    ")\n",
    "\n",
    "clf = LogisticRegression()\n",
    "clf.fit(X_train_bow, y_train)\n",
    "\n",
    "predicted = clf.predict(X_test_bow)\n",
    "f'accuracy = {accuracy_score(predicted, y_test):.2f}%'"
   ]
  }
 ],
 "metadata": {
  "colab": {
   "collapsed_sections": [],
   "name": "Mag ML W06 LogRegression practice",
   "provenance": []
  },
  "kernelspec": {
   "display_name": "Python 3 (ipykernel)",
   "language": "python",
   "name": "python3"
  },
  "language_info": {
   "codemirror_mode": {
    "name": "ipython",
    "version": 3
   },
   "file_extension": ".py",
   "mimetype": "text/x-python",
   "name": "python",
   "nbconvert_exporter": "python",
   "pygments_lexer": "ipython3",
   "version": "3.9.12"
  }
 },
 "nbformat": 4,
 "nbformat_minor": 1
}
