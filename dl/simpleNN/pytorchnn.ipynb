{
 "cells": [
  {
   "cell_type": "markdown",
   "metadata": {
    "id": "sSyQnExiOOcf"
   },
   "source": [
    "<h1>Простая нейронная сеть на PyTorch своими руками</h1>\n"
   ]
  },
  {
   "cell_type": "markdown",
   "metadata": {
    "id": "D4GdBvkZOp8M"
   },
   "source": [
    "# Обучение нейронной сети с использованием PyTorch\n",
    "\n",
    "В этом задании нужно построить и обучить простую нейронную сеть с помощью PyTorch."
   ]
  },
  {
   "cell_type": "code",
   "execution_count": 1,
   "metadata": {
    "id": "x4kC-U8dOpZU"
   },
   "outputs": [],
   "source": [
    "import torch"
   ]
  },
  {
   "cell_type": "markdown",
   "metadata": {
    "id": "t4BjZJQ2PdGw"
   },
   "source": [
    "\n",
    "\n",
    "## Подготовка датасета\n",
    "\n",
    "Здесь мы узнаем некоторые базовые функции и классы подготовки данных из **PyTorch** как:\n",
    "\n",
    "- `torch.utils.data.Dataset` and `torch.utils.data.DataLoader`\n",
    "- dataset downloading api\n",
    "\n",
    "Для начала мы определим нашу проблему. Здесь мы загружаем набор данных MNIST (с PyTorch API)\n",
    "\n",
    "MNIST:\n",
    "- 28x28 изображений из рукописных цифр\n",
    "- каждый пиксель серый (float value in [0, 1))\n",
    "- targets — это целое значение в диапазоне [0, 9] (10 классов)\n",
    "- объекты ($x_i$, $y_i$), где $x_i$ размера (1, 28, 28), $y_i$ это значение int\n",
    "\n",
    "Для использования на входе полносвязной нейронной сети входные данные ($ x $) преобразуем в одномерный массив, чтобы наши данные во время обучения имели формы:\n",
    "\n",
    "- `x_batch` размера `(batch_size, 784)`\n",
    "- `y_batch` размера `(batch_size)`\n",
    "\n"
   ]
  },
  {
   "cell_type": "code",
   "execution_count": 2,
   "metadata": {
    "id": "4-L2wfz7Pczm"
   },
   "outputs": [],
   "source": [
    "from torchvision.datasets import MNIST\n",
    "import torchvision.transforms as tfs"
   ]
  },
  {
   "cell_type": "code",
   "execution_count": 3,
   "metadata": {
    "id": "67geRKgxUKcV"
   },
   "outputs": [],
   "source": [
    "data_tfs = tfs.Compose([\n",
    "  tfs.ToTensor(),\n",
    "  tfs.Normalize((0.5), (0.5))\n",
    "])"
   ]
  },
  {
   "cell_type": "code",
   "execution_count": 4,
   "metadata": {
    "id": "KrrlpkzbQxbl"
   },
   "outputs": [],
   "source": [
    "# install for train and test\n",
    "root = './'\n",
    "train = MNIST(root, train=True,  transform=data_tfs, download=True)\n",
    "test  = MNIST(root, train=False, transform=data_tfs, download=True)"
   ]
  },
  {
   "cell_type": "code",
   "execution_count": 5,
   "metadata": {
    "id": "X4gMHMSBTdEm"
   },
   "outputs": [
    {
     "name": "stdout",
     "output_type": "stream",
     "text": [
      "Data size:\n",
      "\t train 60000,\n",
      "\t test 10000\n",
      "Data shape:\n",
      "\t features torch.Size([1, 28, 28]),\n",
      "\t target <class 'int'>\n"
     ]
    }
   ],
   "source": [
    "print(f'Data size:\\n\\t train {len(train)},\\n\\t test {len(test)}')\n",
    "print(f'Data shape:\\n\\t features {train[0][0].shape},\\n\\t target {type(test[0][1])}')"
   ]
  },
  {
   "cell_type": "markdown",
   "metadata": {
    "id": "omdMTw-XTDz5"
   },
   "source": [
    "Нам не нужно реализовывать batch loader самостоятельно, воспользуемся его реализацией в torch, которая называется `DataLoader` из `torch.utils.data`."
   ]
  },
  {
   "cell_type": "code",
   "execution_count": 6,
   "metadata": {
    "id": "oTbQiE7DTDMG"
   },
   "outputs": [],
   "source": [
    "from torch.utils.data import DataLoader\n",
    "\n",
    "batch_size = 128\n",
    "\n",
    "train_loader = DataLoader(train, batch_size=batch_size, drop_last=True)\n",
    "test_loader = DataLoader(test, batch_size=batch_size, drop_last=True)"
   ]
  },
  {
   "cell_type": "code",
   "execution_count": 7,
   "metadata": {
    "colab": {
     "base_uri": "https://localhost:8080/"
    },
    "id": "MkQ86w8fXFXL",
    "outputId": "86448f42-f6e1-4049-ff0f-34ded28a526d"
   },
   "outputs": [
    {
     "data": {
      "text/plain": [
       "(torch.Size([128, 1, 28, 28]), torch.Size([128]))"
      ]
     },
     "execution_count": 7,
     "metadata": {},
     "output_type": "execute_result"
    }
   ],
   "source": [
    "x_batch, y_batch = next(iter(train_loader))\n",
    "x_batch.shape, y_batch.shape"
   ]
  },
  {
   "cell_type": "markdown",
   "metadata": {
    "id": "-niriIktOclz"
   },
   "source": [
    "## Модель и обучение\n",
    "\n",
    "Далее построим однослойную нейронную сеть для классификации изображений. В цикле обучения будем вычислять loss через кросс-энтропию от X @ W + b и правильных ответом. Далее с помощью loss.backward() вычислим градиенты и обновим веса в сети."
   ]
  },
  {
   "cell_type": "code",
   "execution_count": 8,
   "metadata": {
    "id": "ZwQ0rR_EZiGL"
   },
   "outputs": [],
   "source": [
    "features = 784\n",
    "classes = 10"
   ]
  },
  {
   "cell_type": "markdown",
   "metadata": {},
   "source": [
    "Создайте вещественный тензор W размером (features, classes) и вектор B размером (classes)\n",
    "и заполните небольшими случайными значениями из нормального распределения (можно использовать uniform)\n",
    "Укажите, что для W и B нужно вычислять градиент:"
   ]
  },
  {
   "cell_type": "code",
   "execution_count": 9,
   "metadata": {
    "id": "KZ-qXVG5mVq3"
   },
   "outputs": [],
   "source": [
    "W = torch.rand((features, classes), requires_grad=True)\n",
    "B = torch.rand((classes), requires_grad=True)"
   ]
  },
  {
   "cell_type": "markdown",
   "metadata": {
    "id": "PUVgNd-LaRhZ"
   },
   "source": [
    "Зададим параметры градиентного спуска:"
   ]
  },
  {
   "cell_type": "code",
   "execution_count": 10,
   "metadata": {
    "id": "v6lQU1rgaWjY"
   },
   "outputs": [],
   "source": [
    "# количество эпох обучения\n",
    "epochs = 4\n",
    "\n",
    "# learning_rate - скорость обучения\n",
    "lr=1e-2      \n",
    "\n",
    "# массив для сохранения истории вычисления функции потерь\n",
    "history = []"
   ]
  },
  {
   "cell_type": "markdown",
   "metadata": {},
   "source": [
    "Кросс-энтропия в PyTorch берется от логитов (выходов нейронов), а не от вероятностей,\n",
    "поэтому функцию активации softmax использовать не нужно"
   ]
  },
  {
   "cell_type": "code",
   "execution_count": 11,
   "metadata": {
    "id": "V1Cqa86BOWu1"
   },
   "outputs": [
    {
     "name": "stdout",
     "output_type": "stream",
     "text": [
      "1,\t loss: 0.14611051976680756\n",
      "2,\t loss: 0.11120446771383286\n",
      "3,\t loss: 0.09825913608074188\n",
      "4,\t loss: 0.08926647156476974\n"
     ]
    }
   ],
   "source": [
    "import numpy as np\n",
    "from torch.nn.functional import cross_entropy\n",
    "\n",
    "for i in range(epochs):\n",
    "    #цикл по батчам в одной эпохе\n",
    "    for x_batch, y_batch in train_loader:\n",
    "        # загружаем батч данных (вытянутый в линию)\n",
    "        x_batch = x_batch.reshape(x_batch.shape[0], -1)\n",
    "\n",
    "        # TODO: вычислите значение функции потерь \n",
    "        # и сохраните в history\n",
    "        y_pred = x_batch @ W + B\n",
    "        loss = cross_entropy(\n",
    "            input=y_pred,\n",
    "            target=y_batch,\n",
    "        )\n",
    "        history.append(loss)\n",
    "        \n",
    "        # TODO: вычислите градиенты\n",
    "        loss.backward()\n",
    "        \n",
    "        # TODO: сделайте шаг градиентного спуска\n",
    "        # можно использовать with torch.no_grad() \n",
    "        # во время обновления весов для ускорения вычислений\n",
    "        with torch.no_grad():\n",
    "            W -= 0.05 * W.grad.data\n",
    "            B -= 0.05 * B.grad.data\n",
    "        \n",
    "        # TODO: обнулите градиенты\n",
    "        W.grad.data.zero_()\n",
    "        B.grad.data.zero_()\n",
    "        \n",
    "    print(f'{i+1},\\t loss: {history[-1]}')"
   ]
  },
  {
   "cell_type": "markdown",
   "metadata": {
    "id": "a4_T6SIEevn6"
   },
   "source": [
    "Построим график для loss (функции потерь) во время обучения."
   ]
  },
  {
   "cell_type": "code",
   "execution_count": 12,
   "metadata": {
    "id": "K-pkgEBtfyIU"
   },
   "outputs": [],
   "source": [
    "import matplotlib.pyplot as plt\n",
    "\n",
    "history_detached = list(\n",
    "    map(lambda x: x.detach().numpy(), history)\n",
    ")\n",
    "# print(history_detached)"
   ]
  },
  {
   "cell_type": "code",
   "execution_count": 13,
   "metadata": {
    "id": "ISFcr5Pab8tZ"
   },
   "outputs": [
    {
     "data": {
      "image/png": "[encoded data removed]",
      "text/plain": [
       "<Figure size 1000x700 with 1 Axes>"
      ]
     },
     "metadata": {},
     "output_type": "display_data"
    }
   ],
   "source": [
    "plt.figure(figsize=(10, 7))\n",
    "\n",
    "plt.plot(history_detached)\n",
    "\n",
    "plt.title('Loss by batch iterations')\n",
    "plt.ylabel('Entropy Loss')\n",
    "plt.xlabel('batches')\n",
    "\n",
    "plt.show()"
   ]
  },
  {
   "cell_type": "markdown",
   "metadata": {
    "id": "zDAEdkQsovxN"
   },
   "source": [
    "Посмотрим некоторые показатели качества для нашей линейной модели"
   ]
  },
  {
   "cell_type": "code",
   "execution_count": 14,
   "metadata": {
    "id": "PNtRCtcJfktA"
   },
   "outputs": [],
   "source": [
    "from sklearn.metrics import accuracy_score"
   ]
  },
  {
   "cell_type": "markdown",
   "metadata": {},
   "source": [
    "Посчитайте accuracy_score по всем батчам из test_loader.\n",
    "\n",
    "Для получения предсказаний сети можно использовать torch.argmax от выходов нейронной сети"
   ]
  },
  {
   "cell_type": "code",
   "execution_count": 15,
   "metadata": {
    "id": "GwR-p1UXo-PT"
   },
   "outputs": [
    {
     "name": "stdout",
     "output_type": "stream",
     "text": [
      "0.921875\n",
      "0.9140625\n",
      "0.8671875\n",
      "0.8125\n",
      "0.8125\n",
      "0.8671875\n",
      "0.890625\n",
      "0.8359375\n",
      "0.8515625\n",
      "0.78125\n",
      "0.84375\n",
      "0.7734375\n",
      "0.84375\n",
      "0.8203125\n",
      "0.8515625\n",
      "0.8203125\n",
      "0.8828125\n",
      "0.875\n",
      "0.8359375\n",
      "0.90625\n",
      "0.828125\n",
      "0.890625\n",
      "0.890625\n",
      "0.875\n",
      "0.8359375\n",
      "0.8359375\n",
      "0.8828125\n",
      "0.8203125\n",
      "0.9140625\n",
      "0.7734375\n",
      "0.859375\n",
      "0.8203125\n",
      "0.8515625\n",
      "0.8671875\n",
      "0.8671875\n",
      "0.8671875\n",
      "0.8984375\n",
      "0.84375\n",
      "0.8203125\n",
      "0.90625\n",
      "0.9296875\n",
      "0.9453125\n",
      "0.984375\n",
      "0.8671875\n",
      "0.859375\n",
      "0.921875\n",
      "0.8828125\n",
      "0.828125\n",
      "0.9453125\n",
      "0.9609375\n",
      "0.90625\n",
      "0.8125\n",
      "0.8984375\n",
      "0.9375\n",
      "0.9296875\n",
      "0.96875\n",
      "0.953125\n",
      "0.9609375\n",
      "0.890625\n",
      "0.9609375\n",
      "0.9375\n",
      "0.828125\n",
      "0.9375\n",
      "0.9453125\n",
      "0.90625\n",
      "0.9375\n",
      "0.96875\n",
      "0.96875\n",
      "1.0\n",
      "0.984375\n",
      "0.9140625\n",
      "0.9375\n",
      "0.9609375\n",
      "0.953125\n",
      "0.9375\n",
      "0.8671875\n",
      "0.8046875\n",
      "0.796875\n"
     ]
    }
   ],
   "source": [
    "for x_batch, y_batch in test_loader:\n",
    "    x_batch = x_batch.reshape(x_batch.shape[0], -1)\n",
    "\n",
    "    y_pred = x_batch @ W + B\n",
    "    \n",
    "    accuracy = accuracy_score(torch.argmax(y_pred, dim=1), y_batch)\n",
    "    print(accuracy)"
   ]
  }
 ],
 "metadata": {
  "accelerator": "GPU",
  "colab": {
   "collapsed_sections": [],
   "name": "Mag DL W1 Pytorch simple NN",
   "provenance": []
  },
  "kernelspec": {
   "display_name": "Python 3 (ipykernel)",
   "language": "python",
   "name": "python3"
  },
  "language_info": {
   "codemirror_mode": {
    "name": "ipython",
    "version": 3
   },
   "file_extension": ".py",
   "mimetype": "text/x-python",
   "name": "python",
   "nbconvert_exporter": "python",
   "pygments_lexer": "ipython3",
   "version": "3.9.16"
  }
 },
 "nbformat": 4,
 "nbformat_minor": 1
}
