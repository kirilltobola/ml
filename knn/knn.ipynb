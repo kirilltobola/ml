{
 "cells": [
  {
   "cell_type": "markdown",
   "metadata": {
    "id": "a8DTKO4cLWCI"
   },
   "source": [
    "# Задание 1\n"
   ]
  },
  {
   "cell_type": "markdown",
   "metadata": {
    "id": "x7MFiTFvO4He"
   },
   "source": [
    "1. Получите выборку с помощью следующего вызова:\n",
    "```\n",
    "make_moons(n_samples=1000, noise=0.5, random_state=10)\n",
    "```\n",
    "2. Разбейте выборку на `train` и `test` с помощью функции `train_test_split`. Через аргументы функции зафиксируйте `random_state=10` и `test_size=0.5`.\n",
    "\n",
    "3. Обучите класс `GridSearchCV` на обучающей выборке. Переберите параметр `n_neighbors` от 1 до 20. Чтобы получить детерменированный результат, передайте в параметр `cv` объект класса `KFold(n_splits=5, random_state=10)`. Этот класс будет отвечать за разбиение выборки во время кросс-валидации.\n",
    "\n",
    "Напишите метрику качества (`accuracy`), которая получается, если применить обученный `GridSearchCV` к тестовой выбоке."
   ]
  },
  {
   "cell_type": "code",
   "execution_count": 22,
   "metadata": {
    "id": "5RQX1IJtX_NO"
   },
   "outputs": [
    {
     "data": {
      "text/plain": [
       "'accuracy = 0.8'"
      ]
     },
     "execution_count": 22,
     "metadata": {},
     "output_type": "execute_result"
    }
   ],
   "source": [
    "from sklearn.datasets import make_moons\n",
    "from sklearn.model_selection import train_test_split, KFold, GridSearchCV\n",
    "from sklearn.neighbors import KNeighborsClassifier\n",
    "from sklearn.metrics import accuracy_score\n",
    "\n",
    "data = make_moons(n_samples=1000, noise=0.5, random_state=10)\n",
    "x_train, x_test, y_train, y_test = train_test_split(\n",
    "    data[0], \n",
    "    data[1], \n",
    "    random_state=10, \n",
    "    test_size=0.5\n",
    ")\n",
    "\n",
    "grid_searcher = GridSearchCV(\n",
    "    KNeighborsClassifier(),\n",
    "    param_grid={\n",
    "        'n_neighbors': range(1, 21),\n",
    "        'p': [1, 2, 3],\n",
    "    },\n",
    "    cv=KFold(n_splits=5, random_state=10, shuffle=True)\n",
    ")\n",
    "\n",
    "grid_searcher.fit(x_train, y_train)\n",
    "predicted = grid_searcher.predict(x_test)\n",
    "\n",
    "f'accuracy = {accuracy_score(y_test, predicted)}'"
   ]
  },
  {
   "cell_type": "markdown",
   "metadata": {
    "id": "HvXHv7DeY0Vj"
   },
   "source": [
    "# Задание 2\n"
   ]
  },
  {
   "cell_type": "markdown",
   "metadata": {
    "id": "z1hXs1liY4PJ"
   },
   "source": [
    "Напишите функцию train_grid_search. Функция принимает выборку на вход. Она должна создать объект GridSearchCV, который переберет соседей от одного до 20. Обучите GridSearchCV. Функция должна возвращать значение ключа mean_test_score у атрибута cv_results_ в классе GridSearchCV. Это поле содержит информацию о значении метрики для каждого параметра.\n",
    "\n",
    "Код ниже строит изображения средней зависимости качества от количества соседей. Выберите картинку, которая у вас получилась.\n"
   ]
  },
  {
   "cell_type": "code",
   "execution_count": 24,
   "metadata": {
    "id": "oyG1N-MwZDsZ"
   },
   "outputs": [],
   "source": [
    "import matplotlib.pyplot as plt\n",
    "import numpy as np"
   ]
  },
  {
   "cell_type": "code",
   "execution_count": 23,
   "metadata": {
    "id": "7ypMJvW7TWD7"
   },
   "outputs": [],
   "source": [
    "def train_grid_search(X, y):\n",
    "    grid_searcher = GridSearchCV(\n",
    "        KNeighborsClassifier(),\n",
    "        param_grid={\n",
    "            'n_neighbors': range(1, 21),\n",
    "        },\n",
    "    )\n",
    "    grid_searcher.fit(X, y)\n",
    "    return grid_searcher.cv_results_['mean_test_score']\n",
    "\n",
    "mean_test_scores = []\n",
    "for i in range(1000):\n",
    "  X, y = make_moons(n_samples=1000, noise=0.5)\n",
    "  mean_test_score = train_grid_search(X, y)\n",
    "  mean_test_scores.append(mean_test_score)"
   ]
  },
  {
   "cell_type": "code",
   "execution_count": 31,
   "metadata": {
    "id": "gcg-udrMZG72"
   },
   "outputs": [
    {
     "data": {
      "text/plain": [
       "''"
      ]
     },
     "execution_count": 31,
     "metadata": {},
     "output_type": "execute_result"
    },
    {
     "data": {
      "image/png": "[encoded data removed]",
      "text/plain": [
       "<Figure size 432x288 with 1 Axes>"
      ]
     },
     "metadata": {
      "needs_background": "light"
     },
     "output_type": "display_data"
    }
   ],
   "source": [
    "mean_test_scores = np.array(mean_test_scores)\n",
    "plt.plot(np.arange(1, 21), np.mean(mean_test_scores, axis=0))\n",
    ";"
   ]
  },
  {
   "cell_type": "markdown",
   "metadata": {
    "id": "2ByIB4Tp7cF0"
   },
   "source": [
    "# Задание 3"
   ]
  },
  {
   "cell_type": "code",
   "execution_count": 1,
   "metadata": {
    "id": "XEnCu6__xpWg"
   },
   "outputs": [
    {
     "name": "stdout",
     "output_type": "stream",
     "text": [
      "Collecting python-mnist\n",
      "  Downloading python_mnist-0.7-py2.py3-none-any.whl (9.6 kB)\n",
      "Installing collected packages: python-mnist\n",
      "Successfully installed python-mnist-0.7\n",
      "--2022-09-24 22:25:52--  http://yann.lecun.com/exdb/mnist/train-images-idx3-ubyte.gz\n",
      "Resolving yann.lecun.com (yann.lecun.com)... 172.67.171.76, 104.21.29.36, 2606:4700:3034::6815:1d24, ...\n",
      "Connecting to yann.lecun.com (yann.lecun.com)|172.67.171.76|:80... connected.\n",
      "HTTP request sent, awaiting response... 200 OK\n",
      "Length: 9912422 (9,5M) [application/x-gzip]\n",
      "Saving to: ‘train-images-idx3-ubyte.gz’\n",
      "\n",
      "train-images-idx3-u 100%[===================>]   9,45M  13,9MB/s    in 0,7s    \n",
      "\n",
      "2022-09-24 22:25:53 (13,9 MB/s) - ‘train-images-idx3-ubyte.gz’ saved [9912422/9912422]\n",
      "\n",
      "--2022-09-24 22:25:53--  http://yann.lecun.com/exdb/mnist/train-labels-idx1-ubyte.gz\n",
      "Resolving yann.lecun.com (yann.lecun.com)... 104.21.29.36, 172.67.171.76, 2606:4700:3036::ac43:ab4c, ...\n",
      "Connecting to yann.lecun.com (yann.lecun.com)|104.21.29.36|:80... connected.\n",
      "HTTP request sent, awaiting response... 200 OK\n",
      "Length: 28881 (28K) [application/x-gzip]\n",
      "Saving to: ‘train-labels-idx1-ubyte.gz’\n",
      "\n",
      "train-labels-idx1-u 100%[===================>]  28,20K  --.-KB/s    in 0,002s  \n",
      "\n",
      "2022-09-24 22:25:54 (14,5 MB/s) - ‘train-labels-idx1-ubyte.gz’ saved [28881/28881]\n",
      "\n"
     ]
    }
   ],
   "source": [
    "!pip install python-mnist\n",
    "!mkdir dir_with_mnist_data_files\n",
    "!wget http://yann.lecun.com/exdb/mnist/train-images-idx3-ubyte.gz\n",
    "!wget http://yann.lecun.com/exdb/mnist/train-labels-idx1-ubyte.gz\n",
    "!mv train-images-idx3-ubyte.gz dir_with_mnist_data_files\n",
    "!mv train-labels-idx1-ubyte.gz dir_with_mnist_data_files"
   ]
  },
  {
   "cell_type": "code",
   "execution_count": null,
   "metadata": {
    "id": "k6GGCvvwxKhJ",
    "scrolled": true
   },
   "outputs": [],
   "source": [
    "from mnist import MNIST\n",
    "from matplotlib import pyplot as plt\n",
    "import numpy as np\n",
    "\n",
    "mndata = MNIST('./dir_with_mnist_data_files', gz=True)\n",
    "images, labels = mndata.load_training()\n",
    "images, labels = np.array(images), np.array(labels)"
   ]
  },
  {
   "cell_type": "code",
   "execution_count": 4,
   "metadata": {
    "colab": {
     "base_uri": "https://localhost:8080/",
     "height": 284
    },
    "id": "h2fzeJ5nz3K3",
    "outputId": "ad175547-5173-4d5a-aa55-5f1b7c36f529"
   },
   "outputs": [
    {
     "data": {
      "image/png": "[encoded data removed]",
      "text/plain": [
       "<Figure size 432x288 with 1 Axes>"
      ]
     },
     "metadata": {
      "needs_background": "light"
     },
     "output_type": "display_data"
    }
   ],
   "source": [
    "plt.imshow(images[0].reshape(28, 28));"
   ]
  },
  {
   "cell_type": "markdown",
   "metadata": {
    "id": "Xb0sb_IZ4n8s"
   },
   "source": [
    "В этом задании вы будете работать с классическим датасетом MNIST. Код выше загрузит данные в переменные images и labels. Обучите knn с 30 ближайшими соседями. Предварительно разбейте выборку на train и test в соотношении 80/20. Какой accuracy вы получаете на тестовой выборке?"
   ]
  },
  {
   "cell_type": "code",
   "execution_count": 37,
   "metadata": {
    "id": "y_JcXFz_7D_h"
   },
   "outputs": [
    {
     "data": {
      "text/plain": [
       "'accuracy = 0.9526666666666667'"
      ]
     },
     "execution_count": 37,
     "metadata": {},
     "output_type": "execute_result"
    }
   ],
   "source": [
    "from sklearn.neighbors import KNeighborsClassifier\n",
    "from sklearn.model_selection import train_test_split\n",
    "from sklearn.metrics import accuracy_score\n",
    "\n",
    "X_train, X_test, y_train, y_test = train_test_split(\n",
    "    images,\n",
    "    labels,\n",
    "    test_size=0.2,\n",
    "    train_size=0.8,\n",
    ")\n",
    "\n",
    "knn = KNeighborsClassifier(n_neighbors=30)\n",
    "knn.fit(X_train, y_train)\n",
    "y_predicted = knn.predict(X_test)\n",
    "\n",
    "accuracy = accuracy_score(y_test, y_predicted)\n",
    "f'accuracy = {accuracy}'"
   ]
  },
  {
   "cell_type": "markdown",
   "metadata": {
    "id": "rx7GOKW0mhWj"
   },
   "source": [
    "# Задание 4\n",
    "\n",
    "Найдите примеры, которые были классифицированы неправильно. Найдите и визуализируйте 5 соседей неправильных предсказаний у любого ошибочного примера. Найти соседей точки можно с помощью метода kneighbors.  Почему они были классифицированы неправильно?"
   ]
  },
  {
   "cell_type": "code",
   "execution_count": 114,
   "metadata": {
    "id": "Kplv1FnnmgmY"
   },
   "outputs": [
    {
     "name": "stdout",
     "output_type": "stream",
     "text": [
      "actually: 8 predicted: 1\n"
     ]
    },
    {
     "data": {
      "image/png": "[encoded data removed]",
      "text/plain": [
       "<Figure size 360x360 with 1 Axes>"
      ]
     },
     "metadata": {
      "needs_background": "light"
     },
     "output_type": "display_data"
    },
    {
     "data": {
      "image/png": "[encoded data removed]",
      "text/plain": [
       "<Figure size 360x360 with 1 Axes>"
      ]
     },
     "metadata": {
      "needs_background": "light"
     },
     "output_type": "display_data"
    },
    {
     "data": {
      "image/png": "[encoded data removed]",
      "text/plain": [
       "<Figure size 360x360 with 1 Axes>"
      ]
     },
     "metadata": {
      "needs_background": "light"
     },
     "output_type": "display_data"
    },
    {
     "data": {
      "image/png": "[encoded data removed]",
      "text/plain": [
       "<Figure size 360x360 with 1 Axes>"
      ]
     },
     "metadata": {
      "needs_background": "light"
     },
     "output_type": "display_data"
    },
    {
     "data": {
      "image/png": "[encoded data removed]",
      "text/plain": [
       "<Figure size 360x360 with 1 Axes>"
      ]
     },
     "metadata": {
      "needs_background": "light"
     },
     "output_type": "display_data"
    }
   ],
   "source": [
    "from matplotlib import pyplot as plt\n",
    "import random\n",
    "\n",
    "errors = []\n",
    "for k, v in enumerate(y_predicted):\n",
    "    if v != y_test[k]:\n",
    "        errors.append((k, v))\n",
    "\n",
    "random_error = errors[random.randint(0, len(errors))]\n",
    "\n",
    "print(f'actually: {y_test[random_error[0]]} predicted: {random_error[1]}')\n",
    "\n",
    "neighbors = knn.kneighbors(\n",
    "    [X_test[random_error[0]]],\n",
    "    n_neighbors=5,\n",
    "    return_distance=False\n",
    ")\n",
    "for i in neighbors[0]:\n",
    "    plt.figure(figsize=(5, 5))\n",
    "    plt.imshow(X_train[i].reshape(28, 28));\n",
    "    plt.show()"
   ]
  }
 ],
 "metadata": {
  "colab": {
   "collapsed_sections": [],
   "name": "ML Mag W02 kNN",
   "provenance": []
  },
  "kernelspec": {
   "display_name": "Python 3 (ipykernel)",
   "language": "python",
   "name": "python3"
  },
  "language_info": {
   "codemirror_mode": {
    "name": "ipython",
    "version": 3
   },
   "file_extension": ".py",
   "mimetype": "text/x-python",
   "name": "python",
   "nbconvert_exporter": "python",
   "pygments_lexer": "ipython3",
   "version": "3.9.12"
  }
 },
 "nbformat": 4,
 "nbformat_minor": 1
}
