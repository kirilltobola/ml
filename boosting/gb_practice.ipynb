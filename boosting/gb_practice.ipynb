{
 "cells": [
  {
   "cell_type": "markdown",
   "metadata": {
    "id": "XDorr4PvB4oP"
   },
   "source": [
    "### Градиентный бустинг\n",
    "\n",
    "В данном задании мы изучим применение градиентного бустинга для решения реальных задач.\n",
    "  \n",
    "Мы будем использовать данные об аренде квартир сервиса Яндекс.Недвижимость: по информации из объявления предсказывать время его экспозиции на сервисе.  \n",
    "\n",
    "Метрикой качества для в данном задании является средняя абсолютная ошибка, MAE."
   ]
  },
  {
   "cell_type": "code",
   "execution_count": null,
   "metadata": {
    "id": "XVVUBuQYtVvr"
   },
   "outputs": [],
   "source": [
    "! wget https://www.dropbox.com/s/psutl0zafq50828/data.tsv > ./data.tsv"
   ]
  },
  {
   "cell_type": "code",
   "execution_count": 2,
   "metadata": {
    "collapsed": true,
    "id": "I2Tb5a7JDzw8"
   },
   "outputs": [
    {
     "name": "stdout",
     "output_type": "stream",
     "text": [
      "Collecting catboost==0.24.4\n",
      "  Downloading catboost-0.24.4-cp39-none-manylinux1_x86_64.whl (65.7 MB)\n",
      "\u001b[K     |████████████████████████████████| 65.7 MB 37.7 MB/s eta 0:00:01\n",
      "\u001b[?25hRequirement already satisfied: scipy in /home/kirilltobola/anaconda3/lib/python3.9/site-packages (from catboost==0.24.4) (1.7.3)\n",
      "Requirement already satisfied: numpy>=1.16.0 in /home/kirilltobola/anaconda3/lib/python3.9/site-packages (from catboost==0.24.4) (1.21.5)\n",
      "Collecting graphviz\n",
      "  Downloading graphviz-0.20.1-py3-none-any.whl (47 kB)\n",
      "\u001b[K     |████████████████████████████████| 47 kB 673 kB/s  eta 0:00:01\n",
      "\u001b[?25hRequirement already satisfied: plotly in /home/kirilltobola/anaconda3/lib/python3.9/site-packages (from catboost==0.24.4) (5.6.0)\n",
      "Requirement already satisfied: pandas>=0.24.0 in /home/kirilltobola/anaconda3/lib/python3.9/site-packages (from catboost==0.24.4) (1.4.2)\n",
      "Requirement already satisfied: six in /home/kirilltobola/anaconda3/lib/python3.9/site-packages (from catboost==0.24.4) (1.16.0)\n",
      "Requirement already satisfied: matplotlib in /home/kirilltobola/anaconda3/lib/python3.9/site-packages (from catboost==0.24.4) (3.5.1)\n",
      "Requirement already satisfied: python-dateutil>=2.8.1 in /home/kirilltobola/anaconda3/lib/python3.9/site-packages (from pandas>=0.24.0->catboost==0.24.4) (2.8.2)\n",
      "Requirement already satisfied: pytz>=2020.1 in /home/kirilltobola/anaconda3/lib/python3.9/site-packages (from pandas>=0.24.0->catboost==0.24.4) (2021.3)\n",
      "Requirement already satisfied: kiwisolver>=1.0.1 in /home/kirilltobola/anaconda3/lib/python3.9/site-packages (from matplotlib->catboost==0.24.4) (1.3.2)\n",
      "Requirement already satisfied: packaging>=20.0 in /home/kirilltobola/anaconda3/lib/python3.9/site-packages (from matplotlib->catboost==0.24.4) (21.3)\n",
      "Requirement already satisfied: pyparsing>=2.2.1 in /home/kirilltobola/anaconda3/lib/python3.9/site-packages (from matplotlib->catboost==0.24.4) (3.0.4)\n",
      "Requirement already satisfied: fonttools>=4.22.0 in /home/kirilltobola/anaconda3/lib/python3.9/site-packages (from matplotlib->catboost==0.24.4) (4.25.0)\n",
      "Requirement already satisfied: cycler>=0.10 in /home/kirilltobola/anaconda3/lib/python3.9/site-packages (from matplotlib->catboost==0.24.4) (0.11.0)\n",
      "Requirement already satisfied: pillow>=6.2.0 in /home/kirilltobola/anaconda3/lib/python3.9/site-packages (from matplotlib->catboost==0.24.4) (9.0.1)\n",
      "Requirement already satisfied: tenacity>=6.2.0 in /home/kirilltobola/anaconda3/lib/python3.9/site-packages (from plotly->catboost==0.24.4) (8.0.1)\n",
      "Installing collected packages: graphviz, catboost\n",
      "Successfully installed catboost-0.24.4 graphviz-0.20.1\n",
      "Requirement already satisfied: lightgbm==2.3.1 in /home/kirilltobola/anaconda3/lib/python3.9/site-packages (2.3.1)\n",
      "Requirement already satisfied: scipy in /home/kirilltobola/anaconda3/lib/python3.9/site-packages (from lightgbm==2.3.1) (1.7.3)\n",
      "Requirement already satisfied: scikit-learn in /home/kirilltobola/anaconda3/lib/python3.9/site-packages (from lightgbm==2.3.1) (0.22.1)\n",
      "Requirement already satisfied: numpy in /home/kirilltobola/anaconda3/lib/python3.9/site-packages (from lightgbm==2.3.1) (1.21.5)\n",
      "Requirement already satisfied: joblib>=0.11 in /home/kirilltobola/anaconda3/lib/python3.9/site-packages (from scikit-learn->lightgbm==2.3.1) (1.1.0)\n"
     ]
    }
   ],
   "source": [
    "! pip install catboost==0.24.4\n",
    "! pip install lightgbm==2.3.1"
   ]
  },
  {
   "cell_type": "code",
   "execution_count": 3,
   "metadata": {
    "id": "wfHAGNgnB4oQ"
   },
   "outputs": [],
   "source": [
    "import pandas as pd\n",
    "import catboost\n",
    "import lightgbm\n",
    "from sklearn.model_selection import train_test_split\n",
    "from sklearn.metrics import mean_absolute_error\n",
    "\n",
    "data = pd.read_csv('./data.tsv', sep='\\t')\n",
    "num_features = ['agent_fee', 'floor', 'floors_total', 'kitchen_area', 'living_area', 'price', 'rooms_offered', 'total_area', 'total_images']\n",
    "cat_features = ['balcony', 'building_type', 'month', 'renovation', 'studio']\n",
    "\n",
    "X_train, X_test, y_train, y_test = train_test_split(data[num_features+cat_features], data['exposition_time'], test_size=0.3, shuffle=False)"
   ]
  },
  {
   "cell_type": "markdown",
   "metadata": {
    "id": "mqBxGmIpB4oV"
   },
   "source": [
    "__Задание 1.__\n",
    "\n",
    "Обучите реализации градиентного бустинга LightGBM и Catboost на **вещественных** признаках без подбора параметров. Данная задача является задачей регрессии, поэтому используйте соответствующие модели бустинга. Сделайте предсказания для тестовой выборки, посчитайте MAE. Выведите модуль разности между значениями метрик LightGBM и Catboost.\n",
    "\n",
    "В этом и последующих экспериментах измерьте время обучения моделей."
   ]
  },
  {
   "cell_type": "code",
   "execution_count": 5,
   "metadata": {},
   "outputs": [],
   "source": [
    "from catboost import CatBoostRegressor\n",
    "from lightgbm import LGBMRegressor"
   ]
  },
  {
   "cell_type": "code",
   "execution_count": 20,
   "metadata": {
    "id": "Jy8G6InQtDoH"
   },
   "outputs": [
    {
     "name": "stdout",
     "output_type": "stream",
     "text": [
      "CPU times: user 4.9 s, sys: 980 ms, total: 5.88 s\n",
      "Wall time: 4.47 s\n"
     ]
    },
    {
     "data": {
      "text/plain": [
       "37.81024887094167"
      ]
     },
     "execution_count": 20,
     "metadata": {},
     "output_type": "execute_result"
    }
   ],
   "source": [
    "%%time\n",
    "\n",
    "catboost_clf = CatBoostRegressor(logging_level='Silent', task_type='GPU')\n",
    "catboost_clf.fit(X_train[num_features], y_train)\n",
    "\n",
    "catboost_predict = catboost_clf.predict(X_test[num_features])\n",
    "mean_absolute_error(catboost_predict, y_test)"
   ]
  },
  {
   "cell_type": "code",
   "execution_count": 11,
   "metadata": {},
   "outputs": [
    {
     "name": "stdout",
     "output_type": "stream",
     "text": [
      "CPU times: user 3.47 s, sys: 93.6 ms, total: 3.56 s\n",
      "Wall time: 1.18 s\n"
     ]
    },
    {
     "data": {
      "text/plain": [
       "36.49859872052625"
      ]
     },
     "execution_count": 11,
     "metadata": {},
     "output_type": "execute_result"
    }
   ],
   "source": [
    "%%time\n",
    "\n",
    "lightgbm_clf = LGBMRegressor()\n",
    "lightgbm_clf.fit(X_train[num_features], y_train)\n",
    "\n",
    "lightgbm_predict = lightgbm_clf.predict(X_test[num_features])\n",
    "mean_absolute_error(lightgbm_predict, y_test)"
   ]
  },
  {
   "cell_type": "markdown",
   "metadata": {
    "id": "-cRmOnhMB4ob"
   },
   "source": [
    "__Задание 2.__\n",
    "\n",
    "Подберите оптимальные параметры для Catboost на вещественных признаках,  используя все доступные комбинации из:\n",
    "\n",
    "* глубины деревьев {5, 7, 9};\n",
    "* темпа обучения {0.05, 0.1, 0.5}.\n",
    "\n",
    "Можно использовать GridSearchCV или реализовать перебор самостоятельно.\n",
    "\n",
    "В качестве оптимизируемого функционала в алгоритме используйте MAE (loss_function='MAE'), random_seed=0, другие параметры оставьте без изменений.\n",
    "\n",
    "**Сделайте предсказания для тестовой выборки лучшей моделью, вычислите MAE.**"
   ]
  },
  {
   "cell_type": "code",
   "execution_count": 16,
   "metadata": {
    "id": "eC5aTiUJB4ob"
   },
   "outputs": [],
   "source": [
    "from sklearn.model_selection import GridSearchCV\n",
    "\n",
    "clf = GridSearchCV(\n",
    "    estimator=CatBoostRegressor(loss_function='MAE', random_seed=0, logging_level='Silent'),\n",
    "    param_grid={\n",
    "        'depth': [5, 7, 9],\n",
    "        'learning_rate': [0.05, 0.1, 0.5],\n",
    "    }\n",
    ")"
   ]
  },
  {
   "cell_type": "code",
   "execution_count": 17,
   "metadata": {},
   "outputs": [
    {
     "data": {
      "text/plain": [
       "GridSearchCV(cv=None, error_score=nan,\n",
       "             estimator=<catboost.core.CatBoostRegressor object at 0x7f741f4efe50>,\n",
       "             iid='deprecated', n_jobs=None,\n",
       "             param_grid={'depth': [5, 7, 9], 'learning_rate': [0.05, 0.1, 0.5]},\n",
       "             pre_dispatch='2*n_jobs', refit=True, return_train_score=False,\n",
       "             scoring=None, verbose=0)"
      ]
     },
     "execution_count": 17,
     "metadata": {},
     "output_type": "execute_result"
    }
   ],
   "source": [
    "clf.fit(X_train[num_features], y_train)"
   ]
  },
  {
   "cell_type": "code",
   "execution_count": 19,
   "metadata": {},
   "outputs": [
    {
     "data": {
      "text/plain": [
       "31.701428038959534"
      ]
     },
     "execution_count": 19,
     "metadata": {},
     "output_type": "execute_result"
    }
   ],
   "source": [
    "mean_absolute_error(clf.predict(X_test[num_features]), y_test)"
   ]
  },
  {
   "cell_type": "markdown",
   "metadata": {
    "id": "sdZOQT6iB4of"
   },
   "source": [
    "__Задание 3.__\n",
    "\n",
    "Пока что мы использовали только вещественные данные, однако категориальные переменные также могут быть полезны для решения задачи. Перебирая комбинации параметров из предыдущего пункта, используйте все доступные признаки, обрабатывая категориальные встроенным методом Catboost (для этого их нужно указать параметром cat_features).\n",
    "\n",
    "Выведите значение MAE на тестовой выборке для лучшей модели."
   ]
  },
  {
   "cell_type": "code",
   "execution_count": 21,
   "metadata": {
    "id": "RPmcsGd6s_Uq"
   },
   "outputs": [
    {
     "data": {
      "text/plain": [
       "GridSearchCV(cv=None, error_score=nan,\n",
       "             estimator=<catboost.core.CatBoostRegressor object at 0x7f741e2ecd30>,\n",
       "             iid='deprecated', n_jobs=None,\n",
       "             param_grid={'depth': [5, 7, 9], 'learning_rate': [0.05, 0.1, 0.5]},\n",
       "             pre_dispatch='2*n_jobs', refit=True, return_train_score=False,\n",
       "             scoring=None, verbose=0)"
      ]
     },
     "execution_count": 21,
     "metadata": {},
     "output_type": "execute_result"
    }
   ],
   "source": [
    "cv_clf = GridSearchCV(\n",
    "    estimator=CatBoostRegressor(\n",
    "        loss_function='MAE',\n",
    "        random_seed=0,\n",
    "        logging_level='Silent',\n",
    "        task_type=\"GPU\", # оооочень долго на CPU считать\n",
    "        cat_features=cat_features\n",
    "    ),\n",
    "    param_grid={\n",
    "        'depth': [5, 7, 9],\n",
    "        'learning_rate': [0.05, 0.1, 0.5],\n",
    "    }\n",
    ")\n",
    "cv_clf.fit(X_train, y_train)"
   ]
  },
  {
   "cell_type": "code",
   "execution_count": 22,
   "metadata": {},
   "outputs": [
    {
     "data": {
      "text/plain": [
       "35.10428404180379"
      ]
     },
     "execution_count": 22,
     "metadata": {},
     "output_type": "execute_result"
    }
   ],
   "source": [
    "mean_absolute_error(cv_clf.predict(X_test), y_test)"
   ]
  },
  {
   "cell_type": "markdown",
   "metadata": {
    "id": "VtW2FkMRB4ol"
   },
   "source": [
    "__Задание 4.__\n",
    "\n",
    "Реализуйте блендинг (получение ответов нескольких моделей и взятие их с весами (их нужно подбирать на обучающей выборке)) полученных в заданиях 2 и 3 моделей и выведите MAE на тестовой выборке.\n",
    "\n",
    "Для этого можно использовать LinearRegression на двух векторах предсказаний этих моделей с параметром fit_intercept=False, таким образом будет найдена наилучшая линейная комбинация двух моделей."
   ]
  },
  {
   "cell_type": "code",
   "execution_count": 31,
   "metadata": {
    "id": "oUEVoJspB4om"
   },
   "outputs": [
    {
     "data": {
      "text/plain": [
       "33.77303252509625"
      ]
     },
     "execution_count": 31,
     "metadata": {},
     "output_type": "execute_result"
    }
   ],
   "source": [
    "from sklearn.linear_model import LinearRegression\n",
    "import numpy as np\n",
    "\n",
    "x1 = cv_clf.predict(X_train)\n",
    "x2 = clf.predict(X_train[num_features])\n",
    "y = y_train\n",
    "\n",
    "lin_reg_clf = LinearRegression(fit_intercept=False)\n",
    "lin_reg_clf.fit(np.transpose([x1, x2]), y)\n",
    "\n",
    "x1 = cv_clf.predict(X_test)\n",
    "x2 = clf.predict(X_test[num_features])\n",
    "y = y_test\n",
    "\n",
    "mean_absolute_error(lin_reg_clf.predict(np.transpose([x1, x2])), y)"
   ]
  },
  {
   "cell_type": "markdown",
   "metadata": {
    "id": "BVHeePb_B4op"
   },
   "source": [
    "__Задание 5.__\n",
    "\n",
    "В задании 3 вы подобрали гиперпараметры для CatBoost на всех признаках. Визуализируйте их важности в виде горизонтального bar-plot (отсортируйте признаки по убыванию важности, подпишите названия признаков по оси y).\n",
    "\n",
    "Для каждого из двух алгоритмов удалите неважные признаки (значения менее 0.05; обычно по bar-plot хорошо видно порог, с которого начинается хвост неважных признаков) и обучите модель с теми же параметрами на оставшихся признаках. Выведите разность между значениями MAE на тестовой выборке до и после удаления признаков."
   ]
  },
  {
   "cell_type": "code",
   "execution_count": 118,
   "metadata": {},
   "outputs": [
    {
     "name": "stdout",
     "output_type": "stream",
     "text": [
      "0.0\n"
     ]
    },
    {
     "data": {
      "image/png": "[encoded data removed]",
      "text/plain": [
       "<Figure size 432x288 with 1 Axes>"
      ]
     },
     "metadata": {
      "needs_background": "light"
     },
     "output_type": "display_data"
    }
   ],
   "source": [
    "n_cols = zip(\n",
    "    clf.best_estimator_.get_feature_importance(),\n",
    "    X_test.columns, \n",
    ")\n",
    "n_cols = sorted(n_cols, reverse=True)\n",
    "\n",
    "x, y = zip(*n_cols)\n",
    "plt.barh(y, x, align='center')\n",
    "plt.xlabel('importance')\n",
    "plt.title('feature importances')\n",
    "\n",
    "mae_1_before = mean_absolute_error(clf.predict(X_test[num_features]), y_test)\n",
    "mae_1_after = mae_1_before\n",
    "print(mae_1_before - mae_1_after)"
   ]
  },
  {
   "cell_type": "code",
   "execution_count": 117,
   "metadata": {
    "id": "qT_hIbiEB4oq"
   },
   "outputs": [
    {
     "name": "stdout",
     "output_type": "stream",
     "text": [
      "-0.12544116041770081\n"
     ]
    },
    {
     "data": {
      "image/png": "[encoded data removed]",
      "text/plain": [
       "<Figure size 432x288 with 1 Axes>"
      ]
     },
     "metadata": {
      "needs_background": "light"
     },
     "output_type": "display_data"
    }
   ],
   "source": [
    "import matplotlib.pyplot as plt\n",
    "\n",
    "n_cols = zip(\n",
    "    cv_clf.best_estimator_.get_feature_importance(),\n",
    "    X_test.columns, \n",
    ")\n",
    "n_cols = sorted(n_cols, reverse=True)\n",
    "\n",
    "x, y = zip(*n_cols)\n",
    "plt.barh(y, x, align='center')\n",
    "plt.xlabel('importance')\n",
    "plt.title('feature importances')\n",
    "\n",
    "important_features = list(y[:-2])\n",
    "\n",
    "cat_important_features = []\n",
    "for i in cat_features:\n",
    "    if i in important_features:\n",
    "        cat_important_features.append(i)\n",
    "\n",
    "num_important_features = []\n",
    "for i in num_features:\n",
    "    if i in important_features:\n",
    "        num_important_features.append(i)\n",
    "\n",
    "mae_2_before = mean_absolute_error(cv_clf.predict(X_test), y_test)\n",
    "\n",
    "new_cv_clf = CatBoostRegressor(\n",
    "    loss_function='MAE',\n",
    "    random_seed=0,\n",
    "    logging_level='Silent',\n",
    "    task_type=\"GPU\", # оооочень долго на CPU считать\n",
    "    cat_features=cat_important_features,\n",
    "    ** cv_clf.best_params_\n",
    "\n",
    ")\n",
    "new_cv_clf.fit(X_train[important_features], y_train)\n",
    "\n",
    "mae_2_after = mean_absolute_error(new_cv_clf.predict(X_test[important_features]), y_test)\n",
    "print(mae_2_before - mae_2_after)"
   ]
  }
 ],
 "metadata": {
  "colab": {
   "collapsed_sections": [],
   "name": "gb_practice.ipynb",
   "provenance": []
  },
  "kernelspec": {
   "display_name": "Python 3 (ipykernel)",
   "language": "python",
   "name": "python3"
  },
  "language_info": {
   "codemirror_mode": {
    "name": "ipython",
    "version": 3
   },
   "file_extension": ".py",
   "mimetype": "text/x-python",
   "name": "python",
   "nbconvert_exporter": "python",
   "pygments_lexer": "ipython3",
   "version": "3.9.12"
  }
 },
 "nbformat": 4,
 "nbformat_minor": 1
}
